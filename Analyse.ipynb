{
 "cells": [
  {
   "cell_type": "code",
   "execution_count": 46,
   "metadata": {},
   "outputs": [
    {
     "data": {
      "text/html": [
       "<div>\n",
       "<style scoped>\n",
       "    .dataframe tbody tr th:only-of-type {\n",
       "        vertical-align: middle;\n",
       "    }\n",
       "\n",
       "    .dataframe tbody tr th {\n",
       "        vertical-align: top;\n",
       "    }\n",
       "\n",
       "    .dataframe thead th {\n",
       "        text-align: right;\n",
       "    }\n",
       "</style>\n",
       "<table border=\"1\" class=\"dataframe\">\n",
       "  <thead>\n",
       "    <tr style=\"text-align: right;\">\n",
       "      <th></th>\n",
       "      <th>distance</th>\n",
       "      <th>elapsed_time</th>\n",
       "      <th>total_elevation_gain</th>\n",
       "      <th>kudos_count</th>\n",
       "      <th>comment_count</th>\n",
       "      <th>athlete_count</th>\n",
       "      <th>average_speed</th>\n",
       "      <th>max_speed</th>\n",
       "      <th>MaxTemperature</th>\n",
       "      <th>MaxWindSpeed</th>\n",
       "      <th>SolarRadiation</th>\n",
       "      <th>SunshineDuration</th>\n",
       "      <th>RainSum</th>\n",
       "    </tr>\n",
       "  </thead>\n",
       "  <tbody>\n",
       "    <tr>\n",
       "      <th>0</th>\n",
       "      <td>10879.7</td>\n",
       "      <td>4617</td>\n",
       "      <td>91.4</td>\n",
       "      <td>4</td>\n",
       "      <td>0</td>\n",
       "      <td>3</td>\n",
       "      <td>2.704</td>\n",
       "      <td>6.228</td>\n",
       "      <td>13.6</td>\n",
       "      <td>12</td>\n",
       "      <td>8.32</td>\n",
       "      <td>29249.18</td>\n",
       "      <td>0</td>\n",
       "    </tr>\n",
       "    <tr>\n",
       "      <th>1</th>\n",
       "      <td>1304.4</td>\n",
       "      <td>62993</td>\n",
       "      <td>0</td>\n",
       "      <td>0</td>\n",
       "      <td>0</td>\n",
       "      <td>1</td>\n",
       "      <td>1.807</td>\n",
       "      <td>4.044</td>\n",
       "      <td>3.5</td>\n",
       "      <td>17.5</td>\n",
       "      <td>4.04</td>\n",
       "      <td>10800</td>\n",
       "      <td>0</td>\n",
       "    </tr>\n",
       "    <tr>\n",
       "      <th>2</th>\n",
       "      <td>17503</td>\n",
       "      <td>7462</td>\n",
       "      <td>68.4</td>\n",
       "      <td>5</td>\n",
       "      <td>0</td>\n",
       "      <td>4</td>\n",
       "      <td>2.375</td>\n",
       "      <td>6.778</td>\n",
       "      <td>9.9</td>\n",
       "      <td>19.1</td>\n",
       "      <td>1.27</td>\n",
       "      <td>0</td>\n",
       "      <td>16.2</td>\n",
       "    </tr>\n",
       "    <tr>\n",
       "      <th>3</th>\n",
       "      <td>3457.8</td>\n",
       "      <td>2170</td>\n",
       "      <td>3.9</td>\n",
       "      <td>2</td>\n",
       "      <td>0</td>\n",
       "      <td>3</td>\n",
       "      <td>1.931</td>\n",
       "      <td>4.522</td>\n",
       "      <td>16.2</td>\n",
       "      <td>16.3</td>\n",
       "      <td>7.25</td>\n",
       "      <td>27290.56</td>\n",
       "      <td>0.1</td>\n",
       "    </tr>\n",
       "    <tr>\n",
       "      <th>4</th>\n",
       "      <td>10108.2</td>\n",
       "      <td>4221</td>\n",
       "      <td>6.3</td>\n",
       "      <td>5</td>\n",
       "      <td>0</td>\n",
       "      <td>1</td>\n",
       "      <td>2.449</td>\n",
       "      <td>5.462</td>\n",
       "      <td>7.9</td>\n",
       "      <td>14.3</td>\n",
       "      <td>3.54</td>\n",
       "      <td>8903.67</td>\n",
       "      <td>5.3</td>\n",
       "    </tr>\n",
       "  </tbody>\n",
       "</table>\n",
       "</div>"
      ],
      "text/plain": [
       "  distance  elapsed_time total_elevation_gain  kudos_count  comment_count  \\\n",
       "0  10879.7          4617                 91.4            4              0   \n",
       "1   1304.4         62993                    0            0              0   \n",
       "2    17503          7462                 68.4            5              0   \n",
       "3   3457.8          2170                  3.9            2              0   \n",
       "4  10108.2          4221                  6.3            5              0   \n",
       "\n",
       "   athlete_count average_speed max_speed MaxTemperature MaxWindSpeed  \\\n",
       "0              3         2.704     6.228           13.6           12   \n",
       "1              1         1.807     4.044            3.5         17.5   \n",
       "2              4         2.375     6.778            9.9         19.1   \n",
       "3              3         1.931     4.522           16.2         16.3   \n",
       "4              1         2.449     5.462            7.9         14.3   \n",
       "\n",
       "  SolarRadiation SunshineDuration RainSum  \n",
       "0           8.32         29249.18       0  \n",
       "1           4.04            10800       0  \n",
       "2           1.27                0    16.2  \n",
       "3           7.25         27290.56     0.1  \n",
       "4           3.54          8903.67     5.3  "
      ]
     },
     "execution_count": 46,
     "metadata": {},
     "output_type": "execute_result"
    }
   ],
   "source": [
    "import pandas as pd\n",
    "\n",
    "\n",
    "data = pd.read_csv('Combined_data.csv', sep=';')\n",
    "#On ne garde que les runs \n",
    "data = data[data['type']=='Run']\n",
    "dataset = pd.DataFrame(data)  # Replace with actual table reference\n",
    "dataset.drop(columns=[ 'Sr. no.', 'start_date_local', 'type','start_latlng',\n",
    "       'end_latlng', 'sport_type', 'start_date', 'timezone', 'photo_count','lat', 'lng',\n",
    "      'TotalPrecipitation','SnowFall', 'moving_time','MinTemperature','achievement_count' ], inplace=True)\n",
    "dataset.replace({',':'.'}, regex=True, inplace=True)\n",
    "dataset.head()"
   ]
  },
  {
   "cell_type": "markdown",
   "metadata": {},
   "source": [
    "Faire plusieurs regressions de Lasso. \n",
    "\n",
    "Avec \n",
    "1) variable cible le temps de course elapsed_time\n",
    "2) variable cible la distance de course\n",
    "3) average speed\n",
    "4) max_speed\n"
   ]
  },
  {
   "cell_type": "code",
   "execution_count": 47,
   "metadata": {},
   "outputs": [],
   "source": [
    "X = dataset.drop(columns=['distance','elapsed_time','average_speed','max_speed'])\n",
    "distance = dataset['distance']\n",
    "elapsed_time = dataset['elapsed_time']\n",
    "average_speed = dataset['average_speed']\n",
    "max_speed = dataset['max_speed']"
   ]
  },
  {
   "cell_type": "code",
   "execution_count": null,
   "metadata": {},
   "outputs": [],
   "source": [
    "X = X.reset_index(drop=True)\n",
    "distance = distance.astype(float)\n",
    "distance = distance.reset_index(drop=True)\n"
   ]
  },
  {
   "cell_type": "code",
   "execution_count": null,
   "metadata": {},
   "outputs": [],
   "source": [
    "X = X.reset_index(drop=True)\n",
    "distance = distance.astype(float)\n",
    "distance = distance.reset_index(drop=True)\n"
   ]
  },
  {
   "cell_type": "code",
   "execution_count": null,
   "metadata": {},
   "outputs": [
    {
     "name": "stdout",
     "output_type": "stream",
     "text": [
      "                            OLS Regression Results                            \n",
      "==============================================================================\n",
      "Dep. Variable:               distance   R-squared:                       0.221\n",
      "Model:                            OLS   Adj. R-squared:                  0.135\n",
      "Method:                 Least Squares   F-statistic:                     2.584\n",
      "Date:                Sat, 22 Mar 2025   Prob (F-statistic):             0.0113\n",
      "Time:                        12:49:36   Log-Likelihood:                -913.91\n",
      "No. Observations:                  92   AIC:                             1848.\n",
      "Df Residuals:                      82   BIC:                             1873.\n",
      "Df Model:                           9                                         \n",
      "Covariance Type:            nonrobust                                         \n",
      "========================================================================================\n",
      "                           coef    std err          t      P>|t|      [0.025      0.975]\n",
      "----------------------------------------------------------------------------------------\n",
      "const                 7888.2685    550.866     14.320      0.000    6792.420    8984.117\n",
      "total_elevation_gain  2549.1514    634.345      4.019      0.000    1287.236    3811.066\n",
      "kudos_count            843.6393    648.394      1.301      0.197    -446.222    2133.501\n",
      "comment_count          302.3046    570.099      0.530      0.597    -831.803    1436.413\n",
      "athlete_count          -69.9190    570.599     -0.123      0.903   -1205.022    1065.184\n",
      "MaxTemperature         615.1077    898.472      0.685      0.496   -1172.240    2402.456\n",
      "MaxWindSpeed           189.0904    564.332      0.335      0.738    -933.545    1311.726\n",
      "SolarRadiation       -2081.9977   1699.123     -1.225      0.224   -5462.095    1298.100\n",
      "SunshineDuration      1458.1907   1515.091      0.962      0.339   -1555.808    4472.189\n",
      "RainSum               -137.6153    663.476     -0.207      0.836   -1457.481    1182.251\n",
      "==============================================================================\n",
      "Omnibus:                       61.587   Durbin-Watson:                   2.223\n",
      "Prob(Omnibus):                  0.000   Jarque-Bera (JB):              247.070\n",
      "Skew:                           2.278   Prob(JB):                     2.24e-54\n",
      "Kurtosis:                       9.611   Cond. No.                         6.73\n",
      "==============================================================================\n",
      "\n",
      "Notes:\n",
      "[1] Standard Errors assume that the covariance matrix of the errors is correctly specified.\n"
     ]
    }
   ],
   "source": [
    "model = sm.OLS(distance,X)\n",
    "result = model.fit()\n",
    "\n",
    "# Affichage du résumé des résultats\n",
    "print(result.summary())"
   ]
  },
  {
   "cell_type": "code",
   "execution_count": null,
   "metadata": {},
   "outputs": [
    {
     "name": "stdout",
     "output_type": "stream",
     "text": [
      "                            OLS Regression Results                            \n",
      "==============================================================================\n",
      "Dep. Variable:               distance   R-squared:                       0.221\n",
      "Model:                            OLS   Adj. R-squared:                  0.135\n",
      "Method:                 Least Squares   F-statistic:                     2.584\n",
      "Date:                Sat, 22 Mar 2025   Prob (F-statistic):             0.0113\n",
      "Time:                        12:49:36   Log-Likelihood:                -913.91\n",
      "No. Observations:                  92   AIC:                             1848.\n",
      "Df Residuals:                      82   BIC:                             1873.\n",
      "Df Model:                           9                                         \n",
      "Covariance Type:            nonrobust                                         \n",
      "========================================================================================\n",
      "                           coef    std err          t      P>|t|      [0.025      0.975]\n",
      "----------------------------------------------------------------------------------------\n",
      "const                 7888.2685    550.866     14.320      0.000    6792.420    8984.117\n",
      "total_elevation_gain  2549.1514    634.345      4.019      0.000    1287.236    3811.066\n",
      "kudos_count            843.6393    648.394      1.301      0.197    -446.222    2133.501\n",
      "comment_count          302.3046    570.099      0.530      0.597    -831.803    1436.413\n",
      "athlete_count          -69.9190    570.599     -0.123      0.903   -1205.022    1065.184\n",
      "MaxTemperature         615.1077    898.472      0.685      0.496   -1172.240    2402.456\n",
      "MaxWindSpeed           189.0904    564.332      0.335      0.738    -933.545    1311.726\n",
      "SolarRadiation       -2081.9977   1699.123     -1.225      0.224   -5462.095    1298.100\n",
      "SunshineDuration      1458.1907   1515.091      0.962      0.339   -1555.808    4472.189\n",
      "RainSum               -137.6153    663.476     -0.207      0.836   -1457.481    1182.251\n",
      "==============================================================================\n",
      "Omnibus:                       61.587   Durbin-Watson:                   2.223\n",
      "Prob(Omnibus):                  0.000   Jarque-Bera (JB):              247.070\n",
      "Skew:                           2.278   Prob(JB):                     2.24e-54\n",
      "Kurtosis:                       9.611   Cond. No.                         6.73\n",
      "==============================================================================\n",
      "\n",
      "Notes:\n",
      "[1] Standard Errors assume that the covariance matrix of the errors is correctly specified.\n"
     ]
    }
   ],
   "source": [
    "model = sm.OLS(distance,X)\n",
    "result = model.fit()\n",
    "\n",
    "# Affichage du résumé des résultats\n",
    "print(result.summary())"
   ]
  },
  {
   "cell_type": "code",
   "execution_count": 48,
   "metadata": {},
   "outputs": [],
   "source": [
    "from sklearn.preprocessing import  StandardScaler\n",
    "scaler_standard = StandardScaler()\n",
    "X = pd.DataFrame(scaler_standard.fit_transform(X), columns=X.columns)\n"
   ]
  },
  {
   "cell_type": "code",
   "execution_count": 49,
   "metadata": {},
   "outputs": [
    {
     "name": "stdout",
     "output_type": "stream",
     "text": [
      "               variable       VIF\n",
      "0                 const  1.000000\n",
      "1  total_elevation_gain  1.326048\n",
      "2           kudos_count  1.385432\n",
      "3         comment_count  1.071045\n",
      "4         athlete_count  1.072926\n",
      "5        MaxTemperature  2.660218\n",
      "6          MaxWindSpeed  1.049485\n",
      "7        SolarRadiation  9.513874\n",
      "8      SunshineDuration  7.564583\n",
      "9               RainSum  1.450637\n"
     ]
    }
   ],
   "source": [
    "import statsmodels.api as sm\n",
    "from statsmodels.stats.outliers_influence import variance_inflation_factor\n",
    "\n",
    "X = sm.add_constant(X)\n",
    "\n",
    "vif_data = pd.DataFrame()\n",
    "vif_data[\"variable\"] = X.columns\n",
    "vif_data[\"VIF\"] = [variance_inflation_factor(X.values, i) for i in range(X.shape[1])]\n",
    "\n",
    "print(vif_data)"
   ]
  },
  {
   "cell_type": "markdown",
   "metadata": {},
   "source": [
    "Controler l'endogénéité, en effet le coureur comme nous l'avons remarqué sur Power Bi, peut prendre une décision de ne courir que lorsqu'il fait beau. Nous voulons contrôler cette endogénéité. \n",
    "\n",
    "**Modèle de Heckman**"
   ]
  },
  {
   "cell_type": "code",
   "execution_count": 50,
   "metadata": {},
   "outputs": [],
   "source": [
    "X = X.reset_index(drop=True)\n",
    "distance = distance.astype(float)\n",
    "distance = distance.reset_index(drop=True)\n"
   ]
  },
  {
   "cell_type": "code",
   "execution_count": 51,
   "metadata": {},
   "outputs": [
    {
     "name": "stdout",
     "output_type": "stream",
     "text": [
      "                            OLS Regression Results                            \n",
      "==============================================================================\n",
      "Dep. Variable:               distance   R-squared:                       0.221\n",
      "Model:                            OLS   Adj. R-squared:                  0.135\n",
      "Method:                 Least Squares   F-statistic:                     2.584\n",
      "Date:                Sat, 22 Mar 2025   Prob (F-statistic):             0.0113\n",
      "Time:                        12:49:36   Log-Likelihood:                -913.91\n",
      "No. Observations:                  92   AIC:                             1848.\n",
      "Df Residuals:                      82   BIC:                             1873.\n",
      "Df Model:                           9                                         \n",
      "Covariance Type:            nonrobust                                         \n",
      "========================================================================================\n",
      "                           coef    std err          t      P>|t|      [0.025      0.975]\n",
      "----------------------------------------------------------------------------------------\n",
      "const                 7888.2685    550.866     14.320      0.000    6792.420    8984.117\n",
      "total_elevation_gain  2549.1514    634.345      4.019      0.000    1287.236    3811.066\n",
      "kudos_count            843.6393    648.394      1.301      0.197    -446.222    2133.501\n",
      "comment_count          302.3046    570.099      0.530      0.597    -831.803    1436.413\n",
      "athlete_count          -69.9190    570.599     -0.123      0.903   -1205.022    1065.184\n",
      "MaxTemperature         615.1077    898.472      0.685      0.496   -1172.240    2402.456\n",
      "MaxWindSpeed           189.0904    564.332      0.335      0.738    -933.545    1311.726\n",
      "SolarRadiation       -2081.9977   1699.123     -1.225      0.224   -5462.095    1298.100\n",
      "SunshineDuration      1458.1907   1515.091      0.962      0.339   -1555.808    4472.189\n",
      "RainSum               -137.6153    663.476     -0.207      0.836   -1457.481    1182.251\n",
      "==============================================================================\n",
      "Omnibus:                       61.587   Durbin-Watson:                   2.223\n",
      "Prob(Omnibus):                  0.000   Jarque-Bera (JB):              247.070\n",
      "Skew:                           2.278   Prob(JB):                     2.24e-54\n",
      "Kurtosis:                       9.611   Cond. No.                         6.73\n",
      "==============================================================================\n",
      "\n",
      "Notes:\n",
      "[1] Standard Errors assume that the covariance matrix of the errors is correctly specified.\n"
     ]
    }
   ],
   "source": [
    "model = sm.OLS(distance,X)\n",
    "result = model.fit()\n",
    "\n",
    "# Affichage du résumé des résultats\n",
    "print(result.summary())"
   ]
  },
  {
   "cell_type": "code",
   "execution_count": 52,
   "metadata": {},
   "outputs": [],
   "source": [
    "elapsed_time = elapsed_time.astype(float)\n",
    "elapsed_time = elapsed_time.reset_index(drop=True)\n"
   ]
  },
  {
   "cell_type": "code",
   "execution_count": 54,
   "metadata": {},
   "outputs": [
    {
     "name": "stdout",
     "output_type": "stream",
     "text": [
      "                            OLS Regression Results                            \n",
      "==============================================================================\n",
      "Dep. Variable:           elapsed_time   R-squared:                       0.104\n",
      "Model:                            OLS   Adj. R-squared:                  0.006\n",
      "Method:                 Least Squares   F-statistic:                     1.060\n",
      "Date:                Sat, 22 Mar 2025   Prob (F-statistic):              0.401\n",
      "Time:                        12:54:48   Log-Likelihood:                -944.00\n",
      "No. Observations:                  92   AIC:                             1908.\n",
      "Df Residuals:                      82   BIC:                             1933.\n",
      "Df Model:                           9                                         \n",
      "Covariance Type:            nonrobust                                         \n",
      "========================================================================================\n",
      "                           coef    std err          t      P>|t|      [0.025      0.975]\n",
      "----------------------------------------------------------------------------------------\n",
      "const                 4801.8370    763.970      6.285      0.000    3282.056    6321.618\n",
      "total_elevation_gain  -746.6102    879.744     -0.849      0.399   -2496.701    1003.480\n",
      "kudos_count          -1071.7124    899.227     -1.192      0.237   -2860.561     717.136\n",
      "comment_count         -141.3639    790.643     -0.179      0.859   -1714.205    1431.477\n",
      "athlete_count           -2.4567    791.337     -0.003      0.998   -1576.678    1571.765\n",
      "MaxTemperature       -2723.2778   1246.049     -2.186      0.032   -5202.067    -244.489\n",
      "MaxWindSpeed          -405.4927    782.645     -0.518      0.606   -1962.423    1151.437\n",
      "SolarRadiation        1633.9290   2356.434      0.693      0.490   -3053.769    6321.627\n",
      "SunshineDuration     -1421.9489   2101.208     -0.677      0.500   -5601.921    2758.023\n",
      "RainSum               -534.2323    920.144     -0.581      0.563   -2364.692    1296.228\n",
      "==============================================================================\n",
      "Omnibus:                      131.731   Durbin-Watson:                   1.893\n",
      "Prob(Omnibus):                  0.000   Jarque-Bera (JB):             4147.121\n",
      "Skew:                           4.930   Prob(JB):                         0.00\n",
      "Kurtosis:                      34.379   Cond. No.                         6.73\n",
      "==============================================================================\n",
      "\n",
      "Notes:\n",
      "[1] Standard Errors assume that the covariance matrix of the errors is correctly specified.\n"
     ]
    }
   ],
   "source": [
    "model = sm.OLS(elapsed_time,X)\n",
    "result = model.fit()\n",
    "\n",
    "# Affichage du résumé des résultats\n",
    "print(result.summary())"
   ]
  },
  {
   "cell_type": "code",
   "execution_count": 55,
   "metadata": {},
   "outputs": [],
   "source": [
    "X = X.reset_index(drop=True)\n",
    "max_speed = max_speed.astype(float)\n",
    "max_speed = max_speed.reset_index(drop=True)\n"
   ]
  },
  {
   "cell_type": "code",
   "execution_count": null,
   "metadata": {},
   "outputs": [
    {
     "name": "stdout",
     "output_type": "stream",
     "text": [
      "                            OLS Regression Results                            \n",
      "==============================================================================\n",
      "Dep. Variable:              max_speed   R-squared:                       0.114\n",
      "Model:                            OLS   Adj. R-squared:                  0.017\n",
      "Method:                 Least Squares   F-statistic:                     1.174\n",
      "Date:                Sat, 22 Mar 2025   Prob (F-statistic):              0.323\n",
      "Time:                        12:55:03   Log-Likelihood:                -210.35\n",
      "No. Observations:                  92   AIC:                             440.7\n",
      "Df Residuals:                      82   BIC:                             465.9\n",
      "Df Model:                           9                                         \n",
      "Covariance Type:            nonrobust                                         \n",
      "========================================================================================\n",
      "                           coef    std err          t      P>|t|      [0.025      0.975]\n",
      "----------------------------------------------------------------------------------------\n",
      "const                    5.5266      0.263     21.020      0.000       5.004       6.050\n",
      "total_elevation_gain    -0.6129      0.303     -2.024      0.046      -1.215      -0.011\n",
      "kudos_count              0.1566      0.309      0.506      0.614      -0.459       0.772\n",
      "comment_count           -0.1619      0.272     -0.595      0.553      -0.703       0.379\n",
      "athlete_count           -0.1595      0.272     -0.586      0.560      -0.701       0.382\n",
      "MaxTemperature           0.4463      0.429      1.041      0.301      -0.407       1.299\n",
      "MaxWindSpeed            -0.1053      0.269     -0.391      0.697      -0.641       0.431\n",
      "SolarRadiation          -0.0810      0.811     -0.100      0.921      -1.694       1.532\n",
      "SunshineDuration        -0.4301      0.723     -0.595      0.554      -1.869       1.008\n",
      "RainSum                 -0.2630      0.317     -0.831      0.409      -0.893       0.367\n",
      "==============================================================================\n",
      "Omnibus:                       73.701   Durbin-Watson:                   2.146\n",
      "Prob(Omnibus):                  0.000   Jarque-Bera (JB):              413.359\n",
      "Skew:                           2.663   Prob(JB):                     1.74e-90\n",
      "Kurtosis:                      11.915   Cond. No.                         6.73\n",
      "==============================================================================\n",
      "\n",
      "Notes:\n",
      "[1] Standard Errors assume that the covariance matrix of the errors is correctly specified.\n"
     ]
    }
   ],
   "source": [
    "model = sm.OLS(max_speed,X)\n",
    "result = model.fit()\n",
    "\n",
    "# Affichage du résumé des résultats\n",
    "print(result.summary())"
   ]
  },
  {
   "cell_type": "code",
   "execution_count": 57,
   "metadata": {},
   "outputs": [],
   "source": [
    "X = X.reset_index(drop=True)\n",
    "average_speed = average_speed.astype(float)\n",
    "average_speed = average_speed.reset_index(drop=True)\n"
   ]
  },
  {
   "cell_type": "code",
   "execution_count": 58,
   "metadata": {},
   "outputs": [
    {
     "name": "stdout",
     "output_type": "stream",
     "text": [
      "                            OLS Regression Results                            \n",
      "==============================================================================\n",
      "Dep. Variable:          average_speed   R-squared:                       0.041\n",
      "Model:                            OLS   Adj. R-squared:                 -0.064\n",
      "Method:                 Least Squares   F-statistic:                    0.3901\n",
      "Date:                Sat, 22 Mar 2025   Prob (F-statistic):              0.937\n",
      "Time:                        12:56:39   Log-Likelihood:                -68.362\n",
      "No. Observations:                  92   AIC:                             156.7\n",
      "Df Residuals:                      82   BIC:                             181.9\n",
      "Df Model:                           9                                         \n",
      "Covariance Type:            nonrobust                                         \n",
      "========================================================================================\n",
      "                           coef    std err          t      P>|t|      [0.025      0.975]\n",
      "----------------------------------------------------------------------------------------\n",
      "const                    2.3888      0.056     42.523      0.000       2.277       2.501\n",
      "total_elevation_gain    -0.0370      0.065     -0.571      0.569      -0.166       0.092\n",
      "kudos_count              0.0755      0.066      1.142      0.257      -0.056       0.207\n",
      "comment_count           -0.0081      0.058     -0.139      0.890      -0.124       0.108\n",
      "athlete_count            0.0017      0.058      0.030      0.976      -0.114       0.117\n",
      "MaxTemperature           0.0416      0.092      0.454      0.651      -0.141       0.224\n",
      "MaxWindSpeed            -0.0327      0.058     -0.569      0.571      -0.147       0.082\n",
      "SolarRadiation          -0.0434      0.173     -0.250      0.803      -0.388       0.301\n",
      "SunshineDuration         0.0291      0.155      0.189      0.851      -0.278       0.337\n",
      "RainSum                 -0.0173      0.068     -0.255      0.799      -0.152       0.117\n",
      "==============================================================================\n",
      "Omnibus:                      113.852   Durbin-Watson:                   1.929\n",
      "Prob(Omnibus):                  0.000   Jarque-Bera (JB):             3306.105\n",
      "Skew:                           3.845   Prob(JB):                         0.00\n",
      "Kurtosis:                      31.343   Cond. No.                         6.73\n",
      "==============================================================================\n",
      "\n",
      "Notes:\n",
      "[1] Standard Errors assume that the covariance matrix of the errors is correctly specified.\n"
     ]
    }
   ],
   "source": [
    "model = sm.OLS(average_speed,X)\n",
    "result = model.fit()\n",
    "\n",
    "# Affichage du résumé des résultats\n",
    "print(result.summary())"
   ]
  }
 ],
 "metadata": {
  "kernelspec": {
   "display_name": "Python 3",
   "language": "python",
   "name": "python3"
  },
  "language_info": {
   "codemirror_mode": {
    "name": "ipython",
    "version": 3
   },
   "file_extension": ".py",
   "mimetype": "text/x-python",
   "name": "python",
   "nbconvert_exporter": "python",
   "pygments_lexer": "ipython3",
   "version": "3.13.0"
  }
 },
 "nbformat": 4,
 "nbformat_minor": 2
}
